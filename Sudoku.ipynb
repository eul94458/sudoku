{
 "cells": [
  {
   "cell_type": "code",
   "execution_count": 322,
   "id": "e3e548f5-aac9-41cf-a6a9-3f2a7637c2df",
   "metadata": {
    "execution": {
     "iopub.execute_input": "2023-02-02T16:20:46.095850Z",
     "iopub.status.busy": "2023-02-02T16:20:46.095850Z",
     "iopub.status.idle": "2023-02-02T16:20:46.147847Z",
     "shell.execute_reply": "2023-02-02T16:20:46.147847Z",
     "shell.execute_reply.started": "2023-02-02T16:20:46.095850Z"
    },
    "tags": []
   },
   "outputs": [],
   "source": [
    "import numpy as np\n",
    "from collections import defaultdict as ddict\n",
    "\n",
    "class Sudoku:\n",
    "    \"\"\"\n",
    "    Examples:\n",
    "        game = Sudoku(9).random()\n",
    "        game\n",
    "        game.solve(maxiter=1000)\n",
    "    \"\"\"\n",
    "    xinterval = \"  \"\n",
    "    yinterval = \"\\n\"\n",
    "\n",
    "    def __init__(self, width):\n",
    "        self.width = width\n",
    "        self.clear()\n",
    "        self.maxlen = len(str(width))\n",
    "        if self.maxlen >= 2:\n",
    "            self.yinterval = \"\\n\\n\"\n",
    "            self.xinterval = \"   \"\n",
    "        self.elementrange = range(1, width+1, 1)\n",
    "        self.baseset = set(self.elementrange)\n",
    "        self.xrange = range(0, width, 1)\n",
    "        self.yrange = range(0, width, 1)\n",
    "        self.enumerate = lambda x: enumerate(x, 0)\n",
    "\n",
    "    def random(self):\n",
    "        width = self.width\n",
    "        verify = False\n",
    "        while not verify:\n",
    "            self.clear()\n",
    "            ij_pairs = np.random.randint(0, width, (width, 2), dtype=int)\n",
    "            if len(np.unique(ij_pairs, axis=0)) != width:\n",
    "                continue\n",
    "            element_list = np.random.choice(self.elementrange, width, replace=False)\n",
    "            for (i, j), element in zip(ij_pairs, element_list):\n",
    "                self.canvas[i, j] = element\n",
    "            verify = self.is_valid\n",
    "        return self\n",
    "\n",
    "    def clear(self):\n",
    "        self.canvas = np.zeros((self.width, self.width), dtype=int)\n",
    "        self.badnodes = ddict(set)\n",
    "\n",
    "    def __str__(self):\n",
    "        out = \"\\n\".join(\n",
    "        self.xinterval.join(f\"{element:>{self.maxlen}}\" if element else (\" \"*self.maxlen) for element in row) for row in self.canvas\n",
    "        )\n",
    "        return out\n",
    "\n",
    "    def __repr__(self):\n",
    "        heading = \" \"*self.maxlen + self.xinterval + self.xinterval.join(f\"{x:>{self.maxlen}}\" for x in self.xrange) + \"\\n\\n\"\n",
    "        out = self.yinterval.join(\n",
    "            f\"{i:>{self.maxlen}}{self.xinterval}{row}\" for i,row in self.enumerate(self.__str__().split(\"\\n\"))\n",
    "            )\n",
    "        return heading + out\n",
    "\n",
    "    def place(i, j, element):\n",
    "        return None\n",
    "\n",
    "    def row(self, i):\n",
    "        return self.canvas[i, :]\n",
    "\n",
    "    def col(self, i):\n",
    "        return self.canvas[:, i]\n",
    "\n",
    "    def guess(self):\n",
    "        canvas = self.canvas\n",
    "        baseset = self.baseset\n",
    "        badnodes = self.badnodes\n",
    "        query = self.query\n",
    "        graph = {}\n",
    "        for i in self.yrange:\n",
    "            for j in self.xrange:\n",
    "                if not (element := canvas[i, j]):\n",
    "                    graph[i, j] = query(i, j)\n",
    "        return graph\n",
    "\n",
    "    def query(self, i, j):\n",
    "        available = self.baseset - (set(self.row(i)) | set(self.col(j)))\n",
    "        badnodes = self.badnodes\n",
    "        if (i, j) in badnodes:\n",
    "            available -= badnodes[i, j]\n",
    "        return available\n",
    "\n",
    "    def solve(self, maxiter=1000):\n",
    "        from time import perf_counter as tt\n",
    "        canvas = self.canvas\n",
    "        node_history = []\n",
    "        tree_history = [self.guess()]\n",
    "        verify_tree = self.verify_guess\n",
    "        n_cycle = 0\n",
    "        depth = 0\n",
    "        filename = \"Sudoku.log\"\n",
    "        with open(filename, \"w\") as log:\n",
    "            _ = log.write(f\"Cycle = {n_cycle}\\n{repr(self)}\\n--------\\n\")\n",
    "            t0 = tt()\n",
    "            # === START Depth First Search\n",
    "            ij = None\n",
    "            while (not self.check(verbose=False)) and (n_cycle < maxiter):\n",
    "                n_cycle += 1\n",
    "                tree = tree_history[depth]\n",
    "                if verify_tree(tree):\n",
    "                    # Forward Propagation\n",
    "                    n_singular = 0\n",
    "                    for ij, childs in tree.items():\n",
    "                        if len(childs) == 1:\n",
    "                            for child in childs:\n",
    "                                canvas[ij] = child\n",
    "                                node_history.append(ij)\n",
    "                                n_singular += 1\n",
    "                                break\n",
    "                            break  # Travel only one step per cycle\n",
    "                    if not n_singular:\n",
    "                        for ij, childs in tree.items():\n",
    "                            for child in childs:\n",
    "                                canvas[ij] = child\n",
    "                                node_history.append(ij)\n",
    "                                break\n",
    "                            break\n",
    "                    tree_history.append(self.guess())\n",
    "                    depth += 1\n",
    "                    _ = log.write(f\"Cycle = {n_cycle}\\n{repr(self)}\\n--------\\n\")\n",
    "                else:\n",
    "                    # Backward Propagation\n",
    "                    # The latest node if not with respect to current tree,\n",
    "                    # it is with respect to the previous tree.\n",
    "                    # Therefore we discard the current tree.\n",
    "                    _ = log.write(\n",
    "                        f\"Backward Propagation\\n{depth = }\\n{ij = }\\n{repr(self)}\\n--------\\n\"\n",
    "                        f\"{tree = }\\n--------\\n\")\n",
    "                    _ = tree_history.pop()\n",
    "                    depth -= 1\n",
    "                    tree = tree_history[depth]\n",
    "                    ij = node_history.pop()\n",
    "                    # Retrieve value and undo last step\n",
    "                    value = canvas[ij]\n",
    "                    canvas[ij] = 0\n",
    "                    tree[ij].discard(value)\n",
    "                    _ = log.write(f\"{depth = }\\n{ij = }\\nTree = {tree}\\n--------\\n\")\n",
    "                    # If the branch is empty after discard,\n",
    "                    # This indicate that the current state is unsolvable.\n",
    "                    # So we need to discard this tree also.\n",
    "                    # Checking whether this tree is solvable or not is done in the begining,\n",
    "                    # so nothing is being done after this.\n",
    "                    # But if there is only one possibility left after discarding,\n",
    "                    # This will fall into the first case of Forward Propagation.\n",
    "                    _ = log.write(f\"END Backward Propagation\\n--------\\n\")\n",
    "            # === END Depth First Search\n",
    "            t1 = tt()\n",
    "            _ = log.write(f\"Finished. \\nCPU time = {t1-t0:.5f} s\\n\")\n",
    "            _ = log.write(f\"{self.check(verbose=False) = }\")\n",
    "            print(f\"Finished. \\nCPU time = {t1-t0:.5f} s\\nCycle = {n_cycle} >>> {filename}\")\n",
    "        return self\n",
    "\n",
    "    @property\n",
    "    def is_valid(self):\n",
    "        return not any(True for x in self.guess().values() if not x)\n",
    "\n",
    "    def verify_guess(self, guess):\n",
    "        return not any(True for x in guess.values() if not x)\n",
    "\n",
    "    def check(self, verbose=True):\n",
    "        if 0 in self.canvas:\n",
    "            return False\n",
    "        canvas = self.canvas\n",
    "        width = self.width\n",
    "        for i in self.yrange:\n",
    "            if len(set(self.row(i))) != width:\n",
    "                if verbose:\n",
    "                    print(f\"{i} row FAIL\")\n",
    "                return False\n",
    "        for i in self.xrange:\n",
    "            if len(set(self.col(i))) != width:\n",
    "                if verbose:\n",
    "                    print(f\"{i} col FAIL\")\n",
    "                return False\n",
    "        return True"
   ]
  },
  {
   "cell_type": "code",
   "execution_count": 343,
   "id": "0483fa54-bb0a-4c2a-999c-b67e721246ed",
   "metadata": {
    "execution": {
     "iopub.execute_input": "2023-02-02T16:32:25.114311Z",
     "iopub.status.busy": "2023-02-02T16:32:25.114311Z",
     "iopub.status.idle": "2023-02-02T16:32:25.192786Z",
     "shell.execute_reply": "2023-02-02T16:32:25.192786Z",
     "shell.execute_reply.started": "2023-02-02T16:32:25.114311Z"
    },
    "tags": []
   },
   "outputs": [
    {
     "data": {
      "text/plain": [
       "   0  1  2  3  4  5  6  7  8\n",
       "\n",
       "0                           \n",
       "1  9                        \n",
       "2  4                        \n",
       "3                       7   \n",
       "4              8  6         \n",
       "5                       5   \n",
       "6  1              3         \n",
       "7                    2      \n",
       "8                           "
      ]
     },
     "execution_count": 343,
     "metadata": {},
     "output_type": "execute_result"
    },
    {
     "name": "stdout",
     "output_type": "stream",
     "text": [
      "Finished. \n",
      "CPU time = 0.02235 s\n",
      "Cycle = 84 >>> Sudoku.log\n"
     ]
    },
    {
     "data": {
      "text/plain": [
       "   0  1  2  3  4  5  6  7  8\n",
       "\n",
       "0  2  1  3  4  9  8  5  6  7\n",
       "1  9  2  1  3  4  5  7  8  6\n",
       "2  4  3  2  1  5  7  6  9  8\n",
       "3  8  9  4  2  6  1  3  7  5\n",
       "4  3  4  5  7  8  6  1  2  9\n",
       "5  6  8  7  9  1  2  4  5  3\n",
       "6  1  5  8  6  7  3  9  4  2\n",
       "7  5  7  6  8  3  9  2  1  4\n",
       "8  7  6  9  5  2  4  8  3  1"
      ]
     },
     "execution_count": 343,
     "metadata": {},
     "output_type": "execute_result"
    }
   ],
   "source": [
    "game = Sudoku(9).random()\n",
    "game\n",
    "game.solve(maxiter=1000)"
   ]
  },
  {
   "cell_type": "code",
   "execution_count": null,
   "id": "5471db8e-cccc-4515-bae7-0b8aed5207a2",
   "metadata": {},
   "outputs": [],
   "source": []
  },
  {
   "cell_type": "code",
   "execution_count": 6,
   "id": "0e2c972f-33c9-4ada-96d5-06586b3522df",
   "metadata": {
    "execution": {
     "iopub.execute_input": "2023-03-30T16:35:28.396575Z",
     "iopub.status.busy": "2023-03-30T16:35:28.395570Z",
     "iopub.status.idle": "2023-03-30T16:35:28.442571Z",
     "shell.execute_reply": "2023-03-30T16:35:28.441570Z",
     "shell.execute_reply.started": "2023-03-30T16:35:28.396575Z"
    },
    "tags": []
   },
   "outputs": [],
   "source": [
    "import numpy as np\n",
    "\n",
    "nums = np.arange(100000, 100000)\n"
   ]
  },
  {
   "cell_type": "code",
   "execution_count": 22,
   "id": "bc3c8a7c-2ff4-455e-b5b6-6b1e78eef871",
   "metadata": {
    "execution": {
     "iopub.execute_input": "2023-03-30T16:25:29.431065Z",
     "iopub.status.busy": "2023-03-30T16:25:29.430066Z",
     "iopub.status.idle": "2023-03-30T16:25:34.891094Z",
     "shell.execute_reply": "2023-03-30T16:25:34.891094Z",
     "shell.execute_reply.started": "2023-03-30T16:25:29.431065Z"
    },
    "tags": []
   },
   "outputs": [
    {
     "name": "stdout",
     "output_type": "stream",
     "text": [
      "669 ns ± 2.95 ns per loop (mean ± std. dev. of 7 runs, 1,000,000 loops each)\n"
     ]
    }
   ],
   "source": [
    "%%timeit\n",
    "to_str1 = [np.sum(x) for x in nums]"
   ]
  },
  {
   "cell_type": "code",
   "execution_count": 23,
   "id": "0107fd89-e2ba-4ba0-8798-317ac7cea93a",
   "metadata": {
    "execution": {
     "iopub.execute_input": "2023-03-30T16:25:34.893731Z",
     "iopub.status.busy": "2023-03-30T16:25:34.891094Z",
     "iopub.status.idle": "2023-03-30T16:25:40.436159Z",
     "shell.execute_reply": "2023-03-30T16:25:40.436159Z",
     "shell.execute_reply.started": "2023-03-30T16:25:34.893731Z"
    },
    "tags": []
   },
   "outputs": [
    {
     "name": "stdout",
     "output_type": "stream",
     "text": [
      "679 ns ± 1.93 ns per loop (mean ± std. dev. of 7 runs, 1,000,000 loops each)\n"
     ]
    }
   ],
   "source": [
    "%%timeit\n",
    "to_str1 = [np.sum(x) for x in nums]"
   ]
  },
  {
   "cell_type": "code",
   "execution_count": 24,
   "id": "db3ad310-13ac-404b-b814-b16b6f9c07f9",
   "metadata": {
    "execution": {
     "iopub.execute_input": "2023-03-30T16:25:40.438159Z",
     "iopub.status.busy": "2023-03-30T16:25:40.437158Z",
     "iopub.status.idle": "2023-03-30T16:25:47.545183Z",
     "shell.execute_reply": "2023-03-30T16:25:47.545183Z",
     "shell.execute_reply.started": "2023-03-30T16:25:40.438159Z"
    },
    "tags": []
   },
   "outputs": [
    {
     "name": "stdout",
     "output_type": "stream",
     "text": [
      "872 ns ± 4.55 ns per loop (mean ± std. dev. of 7 runs, 1,000,000 loops each)\n"
     ]
    }
   ],
   "source": [
    "%%timeit\n",
    "to_str2 = list(map(np.sum, nums))"
   ]
  },
  {
   "cell_type": "code",
   "execution_count": 25,
   "id": "852c30c7-8a7d-4764-8a80-75c1f7633b9d",
   "metadata": {
    "execution": {
     "iopub.execute_input": "2023-03-30T16:25:47.547254Z",
     "iopub.status.busy": "2023-03-30T16:25:47.547254Z",
     "iopub.status.idle": "2023-03-30T16:25:54.723178Z",
     "shell.execute_reply": "2023-03-30T16:25:54.723178Z",
     "shell.execute_reply.started": "2023-03-30T16:25:47.547254Z"
    },
    "tags": []
   },
   "outputs": [
    {
     "name": "stdout",
     "output_type": "stream",
     "text": [
      "878 ns ± 4.74 ns per loop (mean ± std. dev. of 7 runs, 1,000,000 loops each)\n"
     ]
    }
   ],
   "source": [
    "%%timeit\n",
    "to_str2 = list(map(np.sum, nums))"
   ]
  },
  {
   "cell_type": "code",
   "execution_count": 26,
   "id": "06edab73-58a2-49c0-a0de-8ad0959bac2d",
   "metadata": {
    "execution": {
     "iopub.execute_input": "2023-03-30T16:25:54.725180Z",
     "iopub.status.busy": "2023-03-30T16:25:54.724180Z",
     "iopub.status.idle": "2023-03-30T16:25:54.786180Z",
     "shell.execute_reply": "2023-03-30T16:25:54.786180Z",
     "shell.execute_reply.started": "2023-03-30T16:25:54.725180Z"
    },
    "tags": []
   },
   "outputs": [
    {
     "data": {
      "text/plain": [
       "24"
      ]
     },
     "execution_count": 26,
     "metadata": {},
     "output_type": "execute_result"
    }
   ],
   "source": [
    "import gc\n",
    "gc.collect()"
   ]
  },
  {
   "cell_type": "code",
   "execution_count": null,
   "id": "d7bd614f-6cdf-4248-baff-dd1718c14826",
   "metadata": {},
   "outputs": [],
   "source": []
  },
  {
   "cell_type": "code",
   "execution_count": 27,
   "id": "0d9da2f6-3dea-4936-99ca-e47ed8acd9d9",
   "metadata": {
    "execution": {
     "iopub.execute_input": "2023-03-30T16:25:54.788180Z",
     "iopub.status.busy": "2023-03-30T16:25:54.788180Z",
     "iopub.status.idle": "2023-03-30T16:26:01.948908Z",
     "shell.execute_reply": "2023-03-30T16:26:01.948908Z",
     "shell.execute_reply.started": "2023-03-30T16:25:54.788180Z"
    },
    "tags": []
   },
   "outputs": [
    {
     "name": "stdout",
     "output_type": "stream",
     "text": [
      "879 ns ± 2.83 ns per loop (mean ± std. dev. of 7 runs, 1,000,000 loops each)\n"
     ]
    }
   ],
   "source": [
    "%%timeit\n",
    "to_str2 = list(map(np.sum, nums))"
   ]
  },
  {
   "cell_type": "code",
   "execution_count": 28,
   "id": "c0353295-0229-4462-85b4-73176687cd4a",
   "metadata": {
    "execution": {
     "iopub.execute_input": "2023-03-30T16:26:01.950906Z",
     "iopub.status.busy": "2023-03-30T16:26:01.950906Z",
     "iopub.status.idle": "2023-03-30T16:26:09.064754Z",
     "shell.execute_reply": "2023-03-30T16:26:09.064754Z",
     "shell.execute_reply.started": "2023-03-30T16:26:01.950906Z"
    },
    "tags": []
   },
   "outputs": [
    {
     "name": "stdout",
     "output_type": "stream",
     "text": [
      "872 ns ± 5.7 ns per loop (mean ± std. dev. of 7 runs, 1,000,000 loops each)\n"
     ]
    }
   ],
   "source": [
    "%%timeit\n",
    "to_str2 = list(map(np.sum, nums))"
   ]
  },
  {
   "cell_type": "code",
   "execution_count": 29,
   "id": "57d5426e-45bc-4b38-ac05-ac82f9a4a6da",
   "metadata": {
    "execution": {
     "iopub.execute_input": "2023-03-30T16:26:09.066756Z",
     "iopub.status.busy": "2023-03-30T16:26:09.066756Z",
     "iopub.status.idle": "2023-03-30T16:26:14.650279Z",
     "shell.execute_reply": "2023-03-30T16:26:14.649278Z",
     "shell.execute_reply.started": "2023-03-30T16:26:09.066756Z"
    },
    "tags": []
   },
   "outputs": [
    {
     "name": "stdout",
     "output_type": "stream",
     "text": [
      "682 ns ± 1.81 ns per loop (mean ± std. dev. of 7 runs, 1,000,000 loops each)\n"
     ]
    }
   ],
   "source": [
    "%%timeit\n",
    "to_str1 = [np.sum(x) for x in nums]"
   ]
  },
  {
   "cell_type": "code",
   "execution_count": 30,
   "id": "041e8776-1ee4-4908-921c-7b62ba0db37d",
   "metadata": {
    "execution": {
     "iopub.execute_input": "2023-03-30T16:26:14.651282Z",
     "iopub.status.busy": "2023-03-30T16:26:14.651282Z",
     "iopub.status.idle": "2023-03-30T16:26:20.217255Z",
     "shell.execute_reply": "2023-03-30T16:26:20.217255Z",
     "shell.execute_reply.started": "2023-03-30T16:26:14.651282Z"
    },
    "tags": []
   },
   "outputs": [
    {
     "name": "stdout",
     "output_type": "stream",
     "text": [
      "681 ns ± 1.57 ns per loop (mean ± std. dev. of 7 runs, 1,000,000 loops each)\n"
     ]
    }
   ],
   "source": [
    "%%timeit\n",
    "to_str1 = [np.sum(x) for x in nums]"
   ]
  },
  {
   "cell_type": "code",
   "execution_count": null,
   "id": "94f6bd25-b34f-404c-88ae-ed71e366b5da",
   "metadata": {},
   "outputs": [],
   "source": []
  },
  {
   "cell_type": "code",
   "execution_count": 40,
   "id": "81fd5ed7-29f1-4ed7-b998-6e7155e54550",
   "metadata": {
    "execution": {
     "iopub.execute_input": "2023-03-30T16:33:17.028138Z",
     "iopub.status.busy": "2023-03-30T16:33:17.028138Z",
     "iopub.status.idle": "2023-03-30T16:33:22.633394Z",
     "shell.execute_reply": "2023-03-30T16:33:22.633394Z",
     "shell.execute_reply.started": "2023-03-30T16:33:17.028138Z"
    },
    "tags": []
   },
   "outputs": [
    {
     "name": "stdout",
     "output_type": "stream",
     "text": [
      "685 ns ± 2.52 ns per loop (mean ± std. dev. of 7 runs, 1,000,000 loops each)\n"
     ]
    }
   ],
   "source": [
    "%%timeit\n",
    "[tuple(x) for x in nums]"
   ]
  },
  {
   "cell_type": "code",
   "execution_count": 41,
   "id": "6b71aca9-ae3f-423c-8626-401ad6178b96",
   "metadata": {
    "execution": {
     "iopub.execute_input": "2023-03-30T16:33:22.635395Z",
     "iopub.status.busy": "2023-03-30T16:33:22.635395Z",
     "iopub.status.idle": "2023-03-30T16:33:28.222487Z",
     "shell.execute_reply": "2023-03-30T16:33:28.222487Z",
     "shell.execute_reply.started": "2023-03-30T16:33:22.635395Z"
    },
    "tags": []
   },
   "outputs": [
    {
     "name": "stdout",
     "output_type": "stream",
     "text": [
      "683 ns ± 2.63 ns per loop (mean ± std. dev. of 7 runs, 1,000,000 loops each)\n"
     ]
    }
   ],
   "source": [
    "%%timeit\n",
    "[tuple(x) for x in nums]"
   ]
  },
  {
   "cell_type": "code",
   "execution_count": 42,
   "id": "173a8fd7-dbc7-40a2-bf5c-d783e5f46e9f",
   "metadata": {
    "execution": {
     "iopub.execute_input": "2023-03-30T16:33:28.224572Z",
     "iopub.status.busy": "2023-03-30T16:33:28.223568Z",
     "iopub.status.idle": "2023-03-30T16:33:35.002020Z",
     "shell.execute_reply": "2023-03-30T16:33:35.002020Z",
     "shell.execute_reply.started": "2023-03-30T16:33:28.224572Z"
    },
    "tags": []
   },
   "outputs": [
    {
     "name": "stdout",
     "output_type": "stream",
     "text": [
      "832 ns ± 3.48 ns per loop (mean ± std. dev. of 7 runs, 1,000,000 loops each)\n"
     ]
    }
   ],
   "source": [
    "%%timeit\n",
    "list(map(tuple, nums))"
   ]
  },
  {
   "cell_type": "code",
   "execution_count": 43,
   "id": "1989c458-551e-47b9-abac-e30c2ab004ba",
   "metadata": {
    "execution": {
     "iopub.execute_input": "2023-03-30T16:33:35.005017Z",
     "iopub.status.busy": "2023-03-30T16:33:35.004020Z",
     "iopub.status.idle": "2023-03-30T16:33:41.798025Z",
     "shell.execute_reply": "2023-03-30T16:33:41.797690Z",
     "shell.execute_reply.started": "2023-03-30T16:33:35.005017Z"
    },
    "tags": []
   },
   "outputs": [
    {
     "name": "stdout",
     "output_type": "stream",
     "text": [
      "834 ns ± 4.44 ns per loop (mean ± std. dev. of 7 runs, 1,000,000 loops each)\n"
     ]
    }
   ],
   "source": [
    "%%timeit\n",
    "list(map(tuple, nums))"
   ]
  },
  {
   "cell_type": "code",
   "execution_count": 44,
   "id": "e26cfe67-d7b7-40c7-8bb7-c9887c3dc5c6",
   "metadata": {
    "execution": {
     "iopub.execute_input": "2023-03-30T16:33:41.799028Z",
     "iopub.status.busy": "2023-03-30T16:33:41.799028Z",
     "iopub.status.idle": "2023-03-30T16:33:41.877028Z",
     "shell.execute_reply": "2023-03-30T16:33:41.877028Z",
     "shell.execute_reply.started": "2023-03-30T16:33:41.799028Z"
    },
    "tags": []
   },
   "outputs": [
    {
     "data": {
      "text/plain": [
       "1648"
      ]
     },
     "execution_count": 44,
     "metadata": {},
     "output_type": "execute_result"
    }
   ],
   "source": [
    "import gc\n",
    "gc.collect()"
   ]
  },
  {
   "cell_type": "code",
   "execution_count": 14,
   "id": "c1a6531b-d3ea-409f-adb2-da674922e9ba",
   "metadata": {
    "execution": {
     "iopub.execute_input": "2023-03-30T16:40:03.525856Z",
     "iopub.status.busy": "2023-03-30T16:40:03.524856Z",
     "iopub.status.idle": "2023-03-30T16:40:10.482749Z",
     "shell.execute_reply": "2023-03-30T16:40:10.482749Z",
     "shell.execute_reply.started": "2023-03-30T16:40:03.525856Z"
    },
    "tags": []
   },
   "outputs": [
    {
     "name": "stdout",
     "output_type": "stream",
     "text": [
      "852 ns ± 1.29 ns per loop (mean ± std. dev. of 7 runs, 1,000,000 loops each)\n"
     ]
    }
   ],
   "source": [
    "%%timeit\n",
    "list(map(set, nums))"
   ]
  },
  {
   "cell_type": "code",
   "execution_count": 13,
   "id": "04ce6e25-6073-4ea0-9a62-14e0bb450ff2",
   "metadata": {
    "execution": {
     "iopub.execute_input": "2023-03-30T16:39:56.560219Z",
     "iopub.status.busy": "2023-03-30T16:39:56.559219Z",
     "iopub.status.idle": "2023-03-30T16:40:03.522857Z",
     "shell.execute_reply": "2023-03-30T16:40:03.522857Z",
     "shell.execute_reply.started": "2023-03-30T16:39:56.560219Z"
    },
    "tags": []
   },
   "outputs": [
    {
     "name": "stdout",
     "output_type": "stream",
     "text": [
      "854 ns ± 2.06 ns per loop (mean ± std. dev. of 7 runs, 1,000,000 loops each)\n"
     ]
    }
   ],
   "source": [
    "%%timeit\n",
    "list(map(set, nums))"
   ]
  },
  {
   "cell_type": "code",
   "execution_count": 12,
   "id": "d8cc384a-dd63-4a01-be05-6779c6afc304",
   "metadata": {
    "execution": {
     "iopub.execute_input": "2023-03-30T16:39:50.951408Z",
     "iopub.status.busy": "2023-03-30T16:39:50.951408Z",
     "iopub.status.idle": "2023-03-30T16:39:56.558219Z",
     "shell.execute_reply": "2023-03-30T16:39:56.558219Z",
     "shell.execute_reply.started": "2023-03-30T16:39:50.951408Z"
    },
    "tags": []
   },
   "outputs": [
    {
     "name": "stdout",
     "output_type": "stream",
     "text": [
      "688 ns ± 2.64 ns per loop (mean ± std. dev. of 7 runs, 1,000,000 loops each)\n"
     ]
    }
   ],
   "source": [
    "%%timeit\n",
    "[set(x) for x in nums]"
   ]
  },
  {
   "cell_type": "code",
   "execution_count": 11,
   "id": "6f0b4857-3ac7-46d9-9591-196c4b86c718",
   "metadata": {
    "execution": {
     "iopub.execute_input": "2023-03-30T16:39:45.491483Z",
     "iopub.status.busy": "2023-03-30T16:39:45.491483Z",
     "iopub.status.idle": "2023-03-30T16:39:50.949409Z",
     "shell.execute_reply": "2023-03-30T16:39:50.949409Z",
     "shell.execute_reply.started": "2023-03-30T16:39:45.491483Z"
    },
    "tags": []
   },
   "outputs": [
    {
     "name": "stdout",
     "output_type": "stream",
     "text": [
      "670 ns ± 1.78 ns per loop (mean ± std. dev. of 7 runs, 1,000,000 loops each)\n"
     ]
    }
   ],
   "source": [
    "%%timeit\n",
    "[set(x) for x in nums]"
   ]
  },
  {
   "cell_type": "code",
   "execution_count": null,
   "id": "fde62c5e-91d7-4daf-9bff-4247c87e34ea",
   "metadata": {},
   "outputs": [],
   "source": []
  },
  {
   "cell_type": "code",
   "execution_count": null,
   "id": "5e4a4b55-52c9-4d81-ad08-2517b02504e9",
   "metadata": {},
   "outputs": [],
   "source": []
  },
  {
   "cell_type": "code",
   "execution_count": null,
   "id": "4b8029ca-8e9a-49fa-b913-652379d08804",
   "metadata": {},
   "outputs": [],
   "source": []
  },
  {
   "cell_type": "code",
   "execution_count": 10,
   "id": "cef2456b-ef7d-4a79-a30e-5aa9b62f18db",
   "metadata": {
    "execution": {
     "iopub.execute_input": "2023-03-30T16:15:51.930200Z",
     "iopub.status.busy": "2023-03-30T16:15:51.930200Z",
     "iopub.status.idle": "2023-03-30T16:16:00.450053Z",
     "shell.execute_reply": "2023-03-30T16:16:00.450053Z",
     "shell.execute_reply.started": "2023-03-30T16:15:51.930200Z"
    },
    "tags": []
   },
   "outputs": [
    {
     "name": "stdout",
     "output_type": "stream",
     "text": [
      "1.01 ms ± 4.83 µs per loop (mean ± std. dev. of 7 runs, 1,000 loops each)\n"
     ]
    }
   ],
   "source": [
    "%%timeit\n",
    "to_int1 = [int(x) for x in to_str1]"
   ]
  },
  {
   "cell_type": "code",
   "execution_count": 11,
   "id": "0674cbcc-4401-49e1-8dfd-22f6f2e8d9f2",
   "metadata": {
    "execution": {
     "iopub.execute_input": "2023-03-30T16:16:00.452052Z",
     "iopub.status.busy": "2023-03-30T16:16:00.451053Z",
     "iopub.status.idle": "2023-03-30T16:16:06.630515Z",
     "shell.execute_reply": "2023-03-30T16:16:06.630515Z",
     "shell.execute_reply.started": "2023-03-30T16:16:00.452052Z"
    },
    "tags": []
   },
   "outputs": [
    {
     "name": "stdout",
     "output_type": "stream",
     "text": [
      "758 µs ± 2.94 µs per loop (mean ± std. dev. of 7 runs, 1,000 loops each)\n"
     ]
    }
   ],
   "source": [
    "%%timeit\n",
    "to_int2 = list(map(int, to_str2))"
   ]
  },
  {
   "cell_type": "code",
   "execution_count": null,
   "id": "0cf30e4d-d10b-43b2-b750-e742222c5f19",
   "metadata": {},
   "outputs": [],
   "source": []
  },
  {
   "cell_type": "code",
   "execution_count": 12,
   "id": "e39da2cc-65fd-444a-8fbf-059ebe6b9522",
   "metadata": {
    "execution": {
     "iopub.execute_input": "2023-03-30T16:16:06.632515Z",
     "iopub.status.busy": "2023-03-30T16:16:06.631515Z",
     "iopub.status.idle": "2023-03-30T16:16:12.791214Z",
     "shell.execute_reply": "2023-03-30T16:16:12.791214Z",
     "shell.execute_reply.started": "2023-03-30T16:16:06.632515Z"
    }
   },
   "outputs": [
    {
     "name": "stdout",
     "output_type": "stream",
     "text": [
      "756 µs ± 5.45 µs per loop (mean ± std. dev. of 7 runs, 1,000 loops each)\n"
     ]
    }
   ],
   "source": [
    "%%timeit\n",
    "to_int2 = list(map(int, to_str2))"
   ]
  },
  {
   "cell_type": "code",
   "execution_count": 13,
   "id": "ef3d0a57-1a7c-42b3-acc6-004222429c37",
   "metadata": {
    "execution": {
     "iopub.execute_input": "2023-03-30T16:16:12.793215Z",
     "iopub.status.busy": "2023-03-30T16:16:12.793215Z",
     "iopub.status.idle": "2023-03-30T16:16:21.142104Z",
     "shell.execute_reply": "2023-03-30T16:16:21.142104Z",
     "shell.execute_reply.started": "2023-03-30T16:16:12.793215Z"
    }
   },
   "outputs": [
    {
     "name": "stdout",
     "output_type": "stream",
     "text": [
      "986 µs ± 5.56 µs per loop (mean ± std. dev. of 7 runs, 1,000 loops each)\n"
     ]
    }
   ],
   "source": [
    "%%timeit\n",
    "to_int1 = [int(x) for x in to_str1]"
   ]
  },
  {
   "cell_type": "code",
   "execution_count": null,
   "id": "d52b6a71-d566-47dd-a97b-2e9bf4af3737",
   "metadata": {},
   "outputs": [],
   "source": []
  },
  {
   "cell_type": "code",
   "execution_count": null,
   "id": "5124af94-05d3-4101-96b2-6c41bc987b85",
   "metadata": {},
   "outputs": [],
   "source": []
  }
 ],
 "metadata": {
  "kernelspec": {
   "display_name": "mkl",
   "language": "python",
   "name": "mkl"
  },
  "language_info": {
   "codemirror_mode": {
    "name": "ipython",
    "version": 3
   },
   "file_extension": ".py",
   "mimetype": "text/x-python",
   "name": "python",
   "nbconvert_exporter": "python",
   "pygments_lexer": "ipython3",
   "version": "3.10.4"
  }
 },
 "nbformat": 4,
 "nbformat_minor": 5
}
